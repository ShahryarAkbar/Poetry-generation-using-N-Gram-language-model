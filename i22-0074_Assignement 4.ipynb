{
 "cells": [
  {
   "cell_type": "markdown",
   "id": "fd097a40",
   "metadata": {
    "id": "fd097a40"
   },
   "source": [
    "# Question1\n",
    " POETRY Generation using N-grams\n",
    "\n"
   ]
  },
  {
   "cell_type": "markdown",
   "id": "bbfd8420",
   "metadata": {
    "id": "bbfd8420"
   },
   "source": [
    "1 Introduction:\n",
    "In this assignment, you will use n-gram language modeling to generate some poetry using the ngrams. For the purpose of this assignment a poem will consist of three stanzas each containing four verses where each verse consists of 7—10 words. For example, following is a manually generated stanza.\n",
    "\n",
    "دل سے نکال یاس کہ زندہ ہوں میں ابھی،\n",
    "\n",
    "ہوتا ہے کیوں اداس کہ زندہ ہوں میں ابھی،\n",
    "\n",
    "مایوسیوں کی قید سے خود کو نکال کر،\n",
    "\n",
    "آ جاؤ میرے پاس کہ زندہ ہوں میں ابھی،\n",
    "\n",
    "\n",
    "\n",
    "آ کر کبھی تو دید سے سیراب کر مجھے،\n",
    "\n",
    "مرتی نہیں ہے پیاس کہ زندہ ہوں میں ابھی،\n",
    "\n",
    "مہر و وفا خلوص و محبت گداز دل،\n",
    "\n",
    "سب کچھ ہے میرے پاس کہ زندہ ہوں میں ابھی،\n",
    "\n",
    "\n",
    "\n",
    "\n",
    "لوٹیں گے تیرے آتے ہی پھر دن بہار کے،\n",
    "\n",
    "رہتی ہے دل میں آس کہ زندہ ہوں میں،\n",
    "\n",
    "نایا ب شاخ چشم میں کھلتے ہیں اب بھی خواب، سچ ہے ترا\n",
    "\n",
    "قیاس کہ زندہ ہوں میں ابھی\n",
    "\n",
    "The task is to print three such stanzas with an empty line in between. The generation model can be trained on the provided Poetry Corpus containing poems from Faiz, Ghalib and Iqbal.You can scrape other urdu poetry too from internet. You will train unigram and bigram models using this corpus. These models will be used to generate poetry.\n",
    "\n",
    "2 Assignment Task:\n",
    "\n",
    "The task is to generate a poem using different models. We will generate a poem verse by verse until all stanzas have been generated. The poetry generation problem can be solved using the following algorithm:\n",
    "1. Load the Poetry Corpus\n",
    "2. Tokenize the corpus in order to split it into a list of words\n",
    "3. Generate n-gram models\n",
    "4. For each of the stanzas\n",
    "– For each verse\n",
    "* Generate a random number in the range [7...10]\n",
    "* Select first word\n",
    "* Select subsequent words until end of verse\n",
    "* [bonus] If not the first verse, try to rhyme the last word with the last word of the previous verse\n",
    "* Print verse\n",
    "– Print empty line after stanza\n",
    "2.1 Implementation Challenges:\n",
    "\n",
    "Among the challenges of solving this assignment will be selecting subsequent words once we have chosen the first word of the verse. To predict the next word, what we aim to compute is the most probable next word from all the possible next words. In other words, we need to find the set of words that occur most frequently after the already selected word and choose the next word from that set. We can use a Conditional Frequency Distribution (CFD) to figure that out! A CFD tells us: given a condition, what is likelihood of each possible outcome. [bonus] Rhyming the generated verses is also a challenge. You can build your dictionary for rhyming. The Urdu sentence is written from right to left, so makes your n-gram models according to this style.\n",
    "\n",
    "2.2 Standard n-gram Models\n",
    "We can develop our model using the Conditional Frequency Distribution method. First develop a unigram model (Unigram Model), then the bigram model (Bigram Model) and then trigram model. Select the first word of each line randomly from starting words in the vocabulary and then use the bigram model to generate the next word until the verse is complete. Generate the next three lines similarly.\n",
    " Follow the same steps for the trigram model and compare the results of the two n-gram models."
   ]
  },
  {
   "cell_type": "code",
   "execution_count": 47,
   "id": "af7f3ed3",
   "metadata": {},
   "outputs": [
    {
     "name": "stderr",
     "output_type": "stream",
     "text": [
      "[nltk_data] Downloading package punkt to\n",
      "[nltk_data]     C:\\Users\\HP\\AppData\\Roaming\\nltk_data...\n",
      "[nltk_data]   Package punkt is already up-to-date!\n"
     ]
    },
    {
     "name": "stdout",
     "output_type": "stream",
     "text": [
      "Poetry by Ghalib:\n",
      "\n",
      "پهر ‘ زیر نہ اور کے دل جفا\n",
      "جفا پتھر سوزودرد کیا نہیں میری بھی\n",
      "بھی کے اک ترے تو سمجھ سے آنکھ نے شب\n",
      "شب کبھی مرتا جاتی ہجراں پر کہیں کبھی حاضر سے\n",
      "\n",
      "\n",
      "کر دبا کی کو منظر باد دکان غالب و\n",
      "و آيہ کا تحفہ کو کی چاہتا میرا نگار وقتِ\n",
      "وقتِ کا سے ازل اگر بنتا ابھی\n",
      "ابھی تھا نظر ہے معاصی کچھ کہ میدانءکربلا\n",
      "\n",
      "\n",
      "کیے ! غم کا کا نہ نہ کاوش خاک مت\n",
      "مت جس زار میں عتاب جگر صفا گاہے ہے\n",
      "ہے ڈال شخص نہ کیا میرے مستانہ بہت جاں جنون\n",
      "جنون تنہا خالی ہوئے وجہِ دہر انفعال چرایا\n",
      "\n",
      "\n",
      "\n",
      "\n",
      "Poetry by Iqbal:\n",
      "\n",
      "سرمہ ہے ہیں محبت یار ہوگا بغداد یہ آخر جو وہ اندیشہ ترے سامنے دیا گوش ذوق حسن\n",
      "ذوق حسن ہیں سب میں فقط مہتاب کی یہاں بے نہ ایراں رہا ہے ۔۔۔۔۔۔۔۔ نو کے ہاتھ\n",
      "کے ہاتھ کواکب وہی واسطے پیدا تھی سکھائے میں ہے کام دوسروں خدا مست شاخ نازک میں باقی میان غیب\n",
      "میان غیب میں فقط نیم شب و خاشاک آزاد بندے جس سے نے ابلۂ تہی کیسہ\n",
      "\n",
      "\n",
      "وقت سے ہیں تہی ہے ہزاروں پہ آئی بہا ہے ذرا دیر حق میں معلوم ہے\n",
      "معلوم ہے ادب ہوں ہوئی کیوں بھی ہو تر ہے ہیں وہ تو مجھے سے گزر کش انتظار تھا تن\n",
      "تھا تن موج تند کی انجمن ابھی یورپ کی نمو ہیں تہ انہیں کے جاتے ہیں میں اسرافیل باہر ہیں\n",
      "باہر ہیں صد شکر دیا بنا نظر شکار گئی ہے کے جن مجھے حکم جہاں تک بھی شرمسار\n",
      "\n",
      "\n",
      "قاروں ہے ہیں کیا ہائے حجازی کہاں سے دور جام آزاد یہ بنے گا فقط بن میں کہوں دعائیں دیتا\n",
      "دعائیں دیتا پاگل ہیں مجھ کو بھی ہے کہ ہو میرے “ سمجھا ہے رب یہ کلام ۔۔۔۔۔۔۔۔\n",
      "کلام ۔۔۔۔۔۔۔۔ ہے منبر و رعنائی امام بے ھم ساتھ گا جس 'لا يخلف کو دعائیں سر فلک و خاشاک\n",
      "و خاشاک عقل کو ہو گیا و پند اگر ہنگامہ فتراک صاحب جہاں میں یہ مسلماں نغمہ کشاید کہ عشق\n",
      "\n",
      "\n"
     ]
    }
   ],
   "source": [
    "import nltk\n",
    "import random\n",
    "\n",
    "nltk.download('punkt')\n",
    "\n",
    "def load_data(filename):\n",
    "    with open(filename, 'r', encoding='utf-8') as f:\n",
    "        data = f.read()\n",
    "    return data\n",
    "\n",
    "def tokenize_corpus(data):\n",
    "    return nltk.word_tokenize(data)\n",
    "\n",
    "def generate_n_gram_model(token_list, n):\n",
    "    if n == 1:\n",
    "        model = list(nltk.ngrams(token_list, n))\n",
    "    elif n == 2:\n",
    "        model = list(nltk.ngrams(token_list, n, pad_left=True, pad_right=True))\n",
    "    elif n == 3:\n",
    "        model = list(nltk.ngrams(token_list, n, pad_left=True, pad_right=True))\n",
    "    else:\n",
    "        raise ValueError(\"Invalid n value. Please use 1 or 2.\")\n",
    "    return model\n",
    "\n",
    "def generate_poetry(stanzas, model, poet_name):\n",
    "    poetry = []\n",
    "    for _ in range(stanzas):\n",
    "        verse = ''\n",
    "        previous_word = ''\n",
    "        for _ in range(4):\n",
    "            line_length = random.randint(7, 10)\n",
    "            line = []\n",
    "            for _ in range(line_length):\n",
    "                if previous_word and _ == 0:\n",
    "                    line.append(previous_word)\n",
    "                else:\n",
    "                    word = random.choice(model)\n",
    "                    if isinstance(word, tuple):\n",
    "                        word = ' '.join(word)\n",
    "                    line.append(word)\n",
    "                    previous_word = word\n",
    "            verse += ' '.join(line) + '\\n'\n",
    "        poetry.append(verse)\n",
    "    print(f\"Poetry by {poet_name}:\\n\")\n",
    "    for verse in poetry:\n",
    "        print(verse)\n",
    "        print()\n",
    "\n",
    "ghalib_data = load_data('ghalib.txt')\n",
    "iqbal_data = load_data('iqbal.txt')\n",
    "\n",
    "ghalib_tokens = tokenize_corpus(ghalib_data)\n",
    "iqbal_tokens = tokenize_corpus(iqbal_data)\n",
    "\n",
    "ghalib_model = generate_n_gram_model(ghalib_tokens, 1)\n",
    "iqbal_model = generate_n_gram_model(iqbal_tokens, 2)\n",
    "\n",
    "generate_poetry(3, ghalib_model, \"Ghalib\")\n",
    "print(\"\\n\")\n",
    "generate_poetry(3, iqbal_model, \"Iqbal\")\n"
   ]
  },
  {
   "cell_type": "markdown",
   "id": "79601988",
   "metadata": {
    "id": "79601988"
   },
   "source": [
    "# Question2\n",
    " Classify language out of the list given below using just stop words. Remove punctuations, make it lower."
   ]
  },
  {
   "cell_type": "code",
   "execution_count": null,
   "id": "fa286b84",
   "metadata": {
    "id": "fa286b84",
    "outputId": "eed1da3f-fabe-4ef1-ba32-dbf482163b85"
   },
   "outputs": [
    {
     "name": "stderr",
     "output_type": "stream",
     "text": [
      "[nltk_data] Downloading package punkt to\n",
      "[nltk_data]     C:\\Users\\Umair\\AppData\\Roaming\\nltk_data...\n",
      "[nltk_data]   Unzipping tokenizers\\punkt.zip.\n"
     ]
    },
    {
     "data": {
      "text/plain": [
       "['arabic',\n",
       " 'azerbaijani',\n",
       " 'basque',\n",
       " 'bengali',\n",
       " 'catalan',\n",
       " 'chinese',\n",
       " 'danish',\n",
       " 'dutch',\n",
       " 'english',\n",
       " 'finnish',\n",
       " 'french',\n",
       " 'german',\n",
       " 'greek',\n",
       " 'hebrew',\n",
       " 'hinglish',\n",
       " 'hungarian',\n",
       " 'indonesian',\n",
       " 'italian',\n",
       " 'kazakh',\n",
       " 'nepali',\n",
       " 'norwegian',\n",
       " 'portuguese',\n",
       " 'romanian',\n",
       " 'russian',\n",
       " 'slovene',\n",
       " 'spanish',\n",
       " 'swedish',\n",
       " 'tajik',\n",
       " 'turkish']"
      ]
     },
     "execution_count": 9,
     "metadata": {},
     "output_type": "execute_result"
    }
   ],
   "source": [
    "import nltk\n",
    "from nltk.corpus import stopwords\n",
    "stopwords.fileids()"
   ]
  },
  {
   "cell_type": "code",
   "execution_count": null,
   "id": "1bdad25b",
   "metadata": {
    "id": "1bdad25b"
   },
   "outputs": [],
   "source": [
    "Test=\"An article is qualunque member van un class of dedicated words naquele estão used with noun phrases per mark the identifiability of the referents of the noun phrases\""
   ]
  },
  {
   "cell_type": "code",
   "execution_count": null,
   "id": "266654b6",
   "metadata": {
    "id": "266654b6",
    "outputId": "38cd33e4-19c0-4338-a6af-6b2951888fe9"
   },
   "outputs": [
    {
     "data": {
      "text/plain": [
       "{'arabic': 0,\n",
       " 'azerbaijani': 1,\n",
       " 'basque': 0,\n",
       " 'bengali': 0,\n",
       " 'catalan': 3,\n",
       " 'chinese': 0,\n",
       " 'danish': 0,\n",
       " 'dutch': 3,\n",
       " 'english': 5,\n",
       " 'finnish': 0,\n",
       " 'french': 1,\n",
       " 'german': 1,\n",
       " 'greek': 0,\n",
       " 'hebrew': 0,\n",
       " 'hinglish': 8,\n",
       " 'hungarian': 1,\n",
       " 'indonesian': 1,\n",
       " 'italian': 2,\n",
       " 'kazakh': 0,\n",
       " 'nepali': 0,\n",
       " 'norwegian': 0,\n",
       " 'portuguese': 1,\n",
       " 'romanian': 1,\n",
       " 'russian': 0,\n",
       " 'slovene': 0,\n",
       " 'spanish': 1,\n",
       " 'swedish': 0,\n",
       " 'tajik': 0,\n",
       " 'turkish': 0}"
      ]
     },
     "execution_count": 12,
     "metadata": {},
     "output_type": "execute_result"
    }
   ],
   "source": [
    "# Your output looks like"
   ]
  },
  {
   "cell_type": "code",
   "execution_count": 19,
   "id": "9ca34856",
   "metadata": {},
   "outputs": [
    {
     "name": "stdout",
     "output_type": "stream",
     "text": [
      "{'arabic': 0, 'azerbaijani': 1, 'basque': 0, 'bengali': 0, 'catalan': 3, 'chinese': 0, 'danish': 0, 'dutch': 3, 'english': 5, 'finnish': 0, 'french': 1, 'german': 1, 'greek': 0, 'hebrew': 0, 'hinglish': 8, 'hungarian': 1, 'indonesian': 1, 'italian': 2, 'kazakh': 0, 'nepali': 0, 'norwegian': 0, 'portuguese': 1, 'romanian': 1, 'russian': 0, 'slovene': 0, 'spanish': 1, 'swedish': 0, 'tajik': 0, 'turkish': 0}\n"
     ]
    }
   ],
   "source": [
    "from nltk.corpus import stopwords\n",
    "import re\n",
    "\n",
    "languages = ['arabic', 'azerbaijani', 'basque', 'bengali', 'catalan', 'chinese', 'danish', 'dutch', 'english', 'finnish', 'french', 'german', 'greek', 'hebrew', 'hinglish', 'hungarian', 'indonesian', 'italian', 'kazakh', 'nepali', 'norwegian', 'portuguese', 'romanian', 'russian', 'slovene', 'spanish', 'swedish', 'tajik', 'turkish']\n",
    "\n",
    "def classify_language(text, languages):\n",
    "    words = re.findall(r'\\b\\w+\\b', text) \n",
    "\n",
    "    stop_words_dict = {lang: set() for lang in languages}\n",
    "    for lang in languages:\n",
    "        stop_words = set(map(lambda x: x.lower(), stopwords.words(lang)))\n",
    "        for word in words:\n",
    "            if word.lower() in stop_words:\n",
    "                stop_words_dict[lang].add(word.lower())\n",
    "    stop_words_count_dict = {lang: len(words) for lang, words in stop_words_dict.items()}\n",
    "    return stop_words_count_dict\n",
    "\n",
    "Test = \"An article is qualunque member van un class of dedicated words naquele estão used with noun phrases per mark the identifiability of the referents of the noun phrases\"\n",
    "output = classify_language(Test, languages)\n",
    "print(output)\n"
   ]
  },
  {
   "cell_type": "markdown",
   "id": "43708fa5",
   "metadata": {
    "id": "43708fa5"
   },
   "source": [
    "# Question 3\n",
    " Rule Based Roman Urdu Text Normalization"
   ]
  },
  {
   "cell_type": "markdown",
   "id": "2e1f761e",
   "metadata": {
    "id": "2e1f761e"
   },
   "source": [
    "Roman Urdu lacks standard lexicon and usually many spelling variations exist for a given word, e.g., the word zindagi (life) is also written as zindagee, zindagy, zaindagee and zndagi. So, in this question you have to Normalize Roman Urdu words using the following Rules given in the attached Pdf. Your Code works for a complete Sentence or multiple sentences.\n",
    "\n",
    "For Example: zaroori, zaruri, zarori map to the 'zrory'. So zrory becomes the correct word for all representations mentioned above."
   ]
  },
  {
   "cell_type": "code",
   "execution_count": 61,
   "id": "dd7e7159",
   "metadata": {
    "id": "dd7e7159"
   },
   "outputs": [
    {
     "name": "stdout",
     "output_type": "stream",
     "text": [
      "zyndagi zyndagee zyndagI zaendagee zndagi aenzyndeyn\n"
     ]
    }
   ],
   "source": [
    "import re\n",
    "\n",
    "def normalize_text(text):\n",
    "    rules = [\n",
    "        (r\"ain$\", \"ein\"),\n",
    "        (r\"([^a])ar\", \"\\\\1r\"),\n",
    "        (r\"ai\", \"ae\"),\n",
    "        (r\"y+\", \"I\"),\n",
    "        (r\"ay$\", \"e\"),\n",
    "        (r\"ih+\", \"eh\"),\n",
    "        (r\"ey$\", \"e\"),\n",
    "        (r\"s+\", \"s\"),\n",
    "        (r\"ie$\", \"y\"),\n",
    "        (r\"([^r])y\", \"\\\\1ri\"),\n",
    "        (r\"es\", \"is\"),\n",
    "        (r\"([^y])sy\", \"\\\\1si\"),\n",
    "        (r\"a+\", \"a\"),\n",
    "        (r\"([^t])y\", \"\\\\1ti\"),\n",
    "        (r\"jj\", \"j\"),\n",
    "        (r\"oo+\", \"o\"),\n",
    "        (r\"ce+\", \"i\"),\n",
    "        (r\"i([bdefghjklmnpqrtuvwxyz])\", \"y\\\\1\"),\n",
    "        (r\"d+\", \"d\"),\n",
    "        (r\"u\", \"o\"),\n",
    "        (r\"h([^a-z])\", \"\\\\1\")\n",
    "    ]\n",
    "\n",
    "    normalized_text = text\n",
    "\n",
    "    for rule in rules:\n",
    "        pattern, replacement = rule\n",
    "        normalized_text = re.sub(pattern, replacement, normalized_text)\n",
    "\n",
    "    return normalized_text\n",
    "\n",
    "text = \"zindagi zindagee zindagy zaindagee zndagi ainzindain\n",
    "zin\"\n",
    "normalized_text = normalize_text(text)\n",
    "print(normalized_text)\n"
   ]
  },
  {
   "cell_type": "code",
   "execution_count": 63,
   "id": "c9b8eb30",
   "metadata": {},
   "outputs": [
    {
     "name": "stdout",
     "output_type": "stream",
     "text": [
      "ek bar ke bad, Ali ne apne ghr meyn koc gadbad dekhi. Usne apne dost ko bolaIa aor kaha, 'kIa kron, Ie sab kaise hoa?' Dost ne moskoraIa aor kaha, 'shaIad koi raz hoga.' Phyr Ali ne kaha, 'hom raz jan lenge.' Lekyn phyr onhone dekha, raz koi am nahi tha, wo tha ek porani haveli ka bhot.\n"
     ]
    }
   ],
   "source": [
    "text=\"ek baar ke baad, Ali ne apne ghar mein kuch gadbad dekhi. Usne apne dost ko bulaya aur kaha, 'kya karun, yeh sab kaise hua?' Dost ne muskuraya aur kaha, 'shayad koi raaz hoga.' Phir Ali ne kaha, 'hum raaz jaan lenge.' Lekin phir unhone dekha, raaz koi aam nahi tha, woh tha ek purani haveli ka bhoot.\"\n",
    "normalized_text=normalize_text(text)\n",
    "print(normalized_text)"
   ]
  },
  {
   "cell_type": "markdown",
   "id": "m7iy18K4vJYt",
   "metadata": {
    "id": "m7iy18K4vJYt"
   },
   "source": [
    "# Question 4\n",
    "In this question, you have been given two text files in Urdu. The first file contains an Urdu dictionary,\n",
    "which consists of a list of words. The second file contains sentences that do not have spaces between the\n",
    "words and are difficult to read.\n",
    "آجخودبخشہوں\n",
    "This sentence, without proper word segmentation, is difficult to understand. However, with proper word\n",
    "segmentation, the sentence can be separated into individual words:\n",
    "آج خود بخش ہوں\n",
    "This makes the sentence much easier to read and understand.\n",
    "\n",
    "\n",
    "This task is create spaces between words using\n",
    "\n",
    "*   unigrams\n",
    "*   bigram\n",
    "*   trigrams\n",
    "\n",
    "You can use the list of words file/dictionary provided in assignment 1.\n",
    "\n",
    "\n",
    "\n",
    "\n",
    "\n",
    "\n"
   ]
  },
  {
   "cell_type": "code",
   "execution_count": 10,
   "id": "2b788099",
   "metadata": {},
   "outputs": [
    {
     "name": "stdout",
     "output_type": "stream",
     "text": [
      "Defaulting to user installation because normal site-packages is not writeableNote: you may need to restart the kernel to use updated packages.\n"
     ]
    },
    {
     "name": "stderr",
     "output_type": "stream",
     "text": [
      "  WARNING: The script razdel-ctl.exe is installed in 'C:\\Users\\HP\\AppData\\Roaming\\Python\\Python39\\Scripts' which is not on PATH.\n",
      "  Consider adding this directory to PATH or, if you prefer to suppress this warning, use --no-warn-script-location.\n",
      "\n",
      "[notice] A new release of pip available: 22.3.1 -> 23.3\n",
      "[notice] To update, run: python.exe -m pip install --upgrade pip\n"
     ]
    },
    {
     "name": "stdout",
     "output_type": "stream",
     "text": [
      "\n",
      "Collecting razdel\n",
      "  Downloading razdel-0.5.0-py3-none-any.whl (21 kB)\n",
      "Installing collected packages: razdel\n",
      "Successfully installed razdel-0.5.0\n"
     ]
    }
   ],
   "source": [
    "pip install razdel\n"
   ]
  },
  {
   "cell_type": "code",
   "execution_count": 13,
   "id": "422a0668",
   "metadata": {},
   "outputs": [
    {
     "name": "stdout",
     "output_type": "stream",
     "text": [
      "Unigram Model Output:\n",
      "تجربہکارہندوستانیآفسپنررویچندرنایشوننےآئندہایشیاءکپ2023ءکیغیریقینیقسمتپراپنیرائےکااظہارکیاہےجوپاکستانمیںہونےجارہاہےاپنےیوٹیوبچینلپرباتکرتےہوئےرویچندرنایشوننےکہاکہاگرپڑوسیملکبھارتایشیاکپ2023ءمیںشرکتکرناچاہتاہےتومقامتبدیلکردیناچاہیےآفسپنرنےکہاکہانٹرنیشنلکرکٹکونسل(آئیسیسی)نےپاکستانکوٹورنامنٹکیمیزبانیکاحقدےدیاہےلیکنبھارتپاکستانکادورہکرنےکوتیارنہیںرویچندرنایشوننےبھی2023ءمیں50اوورکےورلڈکپکےحوالےسےپاکستانکرکٹبورڈ(پیسیبی)کےحالیہبیانکاجوابدیتےہوئےکہامیرےخیالمیںیہممکننہیںہےآفسپنرنےمزیدکہاکہپاکستاننےپہلےبھارتکادورہکرنےسےانکارکردیاتھالیکنآخرکاروہمیگاایونٹسمیںشرکتکےلیےبھارتگئےتھےغورطلبہےکہایشیاکپکےمعاملےپرحالہیمیںبحرینمیںہونےوالیایکہنگامیمیٹنگمیںغورکیاگیاجہاںوینیوکےبارےمیںحتمیفیصلہمارچتکموخرکردیاگیابحرینمیںایشینکرکٹکونسل(اےسیسی)کےاجلاسکےبعدبیسیسیآئیکےحکامنےاعلانکیاکہبورڈنےایونٹکےلیےاپنیٹیمپاکستاننہبھیجنےکافیصلہکیاہےتاہمپیسیبیکےحکامنےبھیسختردعملکااظہارکرتےہوئےکہاہےکہوہاکتوبرمیںبھارتمیںہونےوالےورلڈکپ2023ءمیںشرکتنہیںکریںگےتوشہخانہکیسمیںعمرانخانپرفردجرمعائدنہہوسکیسیشنعدالتنےالیکشنکمیشنکیچیئرمینپیٹیآئیکیخلاففوجداریمقدمےکیدرخواستپرعمرانخانکیطبیبنیادوںپرآجحاضریسےاستثنٰیکیدرخواستمنظورکرلیالیکشنکمیشنکیجانبسےپیٹیآئیوکلاکوتصدیقشدہکاپیاںفراہمنہیںکیگئیںتصدیقشدہکاپیاںکیفراہمیکےبعدفردجرمکیاگلیتاریخمقررکیجائےگیتفصیلاتکےمطابقسیشنعدالتمیںالیکشنکمیشنکیعمرانخانکےخلاففوجداریمقدمےکیدرخواستپرسماعتہوئیججظفراقبالنےدرخواستپرسماعتکیعمرانخانکیجانبسےطبیبنیادوںپرحاضریسےاستثنیٰکیدرخواستدائرکیگئیعدالتنےوکیلسےاستفسارکیاکہکیامچلکےجمعکروادیئےوکیلگوہرعلیخاننےکہاکہعمرانخانکےضمانتیمچلکےجمعکروادیئےججنےاستفسارکیاکہایسےحاضریسےاستثنٰیکیدرخواستدائرہوتیرہیتوفردجرمکیسےعائدہوگیوکیلعلیبخارینےبتایاکہہمیںمصدقہکاپیاںفراہمنہیںکیگئیںججنےہدایتکیکہتمامثبوتوںکیتصدیقشدہکاپیاںعدالتاورپیٹیآئیکوفراہمکریںوکیلالیکشنکمیشننےکہاکہہمآجہیکمپلینٹاورثبوتوںکیمصدقہکاپیاںفراہمکردیںگےوکیلالیکشنکمیشننےکہاکہعمرانخانابھیتکعدالتکیوںنہیںآئےججنےاستفسارکیاکہکیاکہمجھےایکتاریخبتادیںعمرانخانکبعدالتآئیںگےعمرانخانکےوکیلنےکہاکہعمرانخانکیصحتنےاجازتدیتوآئیںگےڈاکٹرزکیہدایتپرعملکررہےہیںعدالتنےعمرانخانکیآجحاضریسےاستثنیٰپرفیصلہمحفوظکرلیاعدالتنےطبیبنیادوںپرعمرانخانکیآجحاضریسےاستثنیٰکیدرخواستمنظورکرلیچیئرمینپیٹیآئیعمرانخانپرفردجرمعائدنہہوسکییادرہےکہتوشہخانہکیسمیںعمرانخاننےسینئروکیلخواجہحارثکیخدماتحاصلکرلیںخواجہحارثسمیت4وکلاکےوکالتنامےعدالتمیںجمعکرادیئےگئےہیںسابقوفاقیوزیرمفتاحاسماعیلکاکہناہےکہوزیرخزانہاسحاقڈارنےپھروہیحرکتکیجوشوکتتریننےکیتھیانہوںنےآئیایمایفسےکیاگیامعاہدہتوڑاتھاانہوںنےہمنیوزکےپروگراممیںگفتگوکرتےہوئےمزیدکہاکہآئیایمایفسےمعاہدہہونےکےبعدچیزیںبہترہوںگیپیآئیاےاسسال90اربروپےکانقصانکرےگیلیکناگرپیآئیاےکینجکاریہوگیتو90اربروپےکانقصاننہیںہوگامفتاحاسماعیلنےکہاکہمیںتوچاہرہاتھاپہلےدنہیپٹرولیممصنوعاتکیقیمتوںمیںاضافہکیاجائےسیلابآنےسےپہلےہمنےڈیفالٹرسککوکمکیاتھاشہبازشریفاگرآجوزیراعظمنہہوتےتوملکڈیفالٹکیطرفجاچکاتھاقبلازیںایکبیانمیںمفتاحاسماعیلنےکہاکہہمسلملیگمیںکوئیفارورڈبلاکنہیںبنرہاپاکستانڈیفالٹنہیںکرےگاپارٹیکےموجودہنائبصدرکوپارٹیکےفیصلےکرنےکااختیارحاصلہےوہگزشتہروزکراچیمیںنیشنلاسلامکاکنامککانفرنسسےخطابکررہےتھےسابقوزیرخزانہنےاپنےخطاباورمیڈیاسےباتچیتکےدورانمسلملیگمیںفارورڈبلاکبننےکیخبروںکومستردکرتےہوئےکہاکہایسیاطلاعاتمیںکوئیصداقتنہیںہےشاہدخاقانعباسیپہلےہیکہہچکےہیںکہوہپارٹیمیںہیہیںانہوںنےاپنےپارٹیعہدہسےاستعفیٰدیاہےپارٹینہیںچھوڑیہےملککیمعاشیصورتحالکےحوالےسےمفتاحاسماعیلکاکہناتھاکہملککےڈیفالٹہونےکاکوئیامکانہیںآئیایمایفسےڈیلہوجائیگیاورمعاملاتدرستہوجائینگےانکاکہناتھاکہاگرشوکتترینفروریمیںآئیایمایفکامعاہدہنہتوڑتےتوحالاتاچھےہوتےپیٹیآئیکیحکومتمیں80اربڈالرکیامپورٹہوئیڈالرکوروککررکھناغلطیتھیاوراسلئےڈالرکیقیمتآجبلندترینسطحپرہےڈالرکیقدرکوپکڑکرروکانہیںجاسکتاڈالرکافریفلوٹرہناہیبہترہےغیرضروریمشینریکوہمنےامپورٹسےروکاتھاابھیجوپابندیہےوہکچھاورہےوزیرداخلہراناثناءاللہکاکہناہےکہعمرانخاننےجیلبھروتحریککااعلانکیاہےوہپہلےبھیاسہتھکنڈےمیںناکامہوئےعمرانخانکومعلومہینہیںکہجیلمیںرہناکتنامشکلہےمیڈیارپورٹسکےمطابقراناثناءاللہنےاپنےبیانمیںکہاکہعمرانخانکامقصدسیاسیافراتفریہےوہاسمیںناکامہوںگےعمرانخاناپنیزندگیکاصرفایکدنجیلمیںرہےاےپیسیمیںتمامجماعتوںکیشرکتکےلیے2دنبڑھادیئےہیںاےپیسیمیںکسیجماعتکےشاملنہہونےسےمعاملہرکنہیںسکتاوزیرداخلہکاکہناتھاکہقومیمعاملےکاتمامسیاسیجماعتوںکوملکرحلنکالناہوگااےپیسیمیںاتفاقرائےکےبعدحکومتدہشتگردوںکےخلافکارروائیکافیصلہکرےگیقبلازیںوفاقیوزیرایازصادقنےکہاکہپرویزخٹکاسدقیصراوراعجازشاہکواےپیسیمیںشرکتکیدعوتدیانسےکہاکہوہیہدعوتعمرانخانتکپہنچادیںایازصادقنےپیٹیآئیرہنمااسدقیصرکےبیانپرردِعملدیتےہوئےکہاہےکہاےپیسیمیںشرکتکیلئےکسیکوبھیدعوتنامہنہیںبھجوایافونکیےیاملاقاتکرکےکانفرنسمیںشرکتکیدعوتدیگئیہےسابقاسپیکرقومیاسمبلیاسدقیصررویوںکیباتنہکریںتواچھاہےپیٹیآئینےنلیگپیپلزپارٹیکےساتھایفآئیاےاورنیبکےذریعےکیاکچھنہیںکیاجبکہتحریکانصافکےرہنمااسدقیصرکاکہناتھاکہمجھےحکومتینمائندوںنےفونپراےپیسیمیںشرکتکیدعوتدیکانفرنسکیدعوتدینےکایہبالکلبھیمناسبطریقہنہیںہےاےپیسیمیںدعوتدیناکااحسنطریقہہوتاہےہمسمجھتےہیںکہملکسنگینبحرانوںکاشکارہےاوراسوقتیکجہتیکیضرورتہےحکومتیرویہغیرآئینیہےاوراسماحولمیںیکجہتیکاسوالہیپیدانہیںہوتاحکومتکوسبسےپہلےاپنےرویےمیںبہتریلاناہوگیہمنےاپنےدورمیںدہشتگردیپرقابوپانےکیلئےبہترینحکمتعملیبناکرامنقائمکیا\n",
      "\n",
      "Bigram Model Output:\n",
      "تجربہکارہندوستانیآفسپنررویچندرنایشوننےآئندہایشیاءکپپ20233ءکیغیریقینیقسمتپراپنیرائےکااظہارکیاہےجوپاکستانمیںہونےجارہاہےاپنےیوٹیوبچینلپرباتکرتےہوئےرویچندرنایشوننےکہاکہاگرپڑوسیملکبھارتایشیاکپپ20233ءمیںشرکتکرناچاہتاہےتومقامتبدیلکردیناچاہیےےآفسپنرنےکہاکہانٹرنیشنلکرکٹکونسلل((آئیسیسیی))نےپاکستانکوٹورنامنٹکیمیزبانیکاحقدےدیاہےلیکنبھارتپاکستانکادورہکرنےکوتیارنہیںرویچندرنایشوننےبھیی20233ءمیںں500اوورکےورلڈکپکےحوالےسےپاکستانکرکٹبورڈڈ((پیسیبیی))کےحالیہبیانکاجوابدیتےہوئےکہامیرےخیالمیںیہممکننہیںہےآفسپنرنےمزیدکہاکہپاکستاننےپہلےبھارتکادورہکرنےسےانکارکردیاتھالیکنآخرکاروہمیگاایونٹسمیںشرکتکےلیےبھارتگئےتھےےغورطلبہےکہایشیاکپکےمعاملےپرحالہیمیںبحرینمیںہونےوالیایکہنگامیمیٹنگمیںغورکیاگیاجہاںوینیوکےبارےمیںحتمیفیصلہمارچتکموخرکردیاگیابحرینمیںایشینکرکٹکونسلل((اےسیسیی))کےاجلاسکےبعدبیسیسیآئیکےحکامنےاعلانکیاکہبورڈنےایونٹکےلیےاپنیٹیمپاکستاننہبھیجنےکافیصلہکیاہےتاہمپیسیبیکےحکامنےبھیسختردعملکااظہارکرتےہوئےکہاہےکہوہاکتوبرمیںبھارتمیںہونےوالےورلڈکپپ20233ءمیںشرکتنہیںکریںگےےتوشہخانہکیسمیںعمرانخانپرفردجرمعائدنہہوسکیسیشنعدالتنےالیکشنکمیشنکیچیئرمینپیٹیآئیکیخلاففوجداریمقدمےکیدرخواستپرعمرانخانکیطبیبنیادوںپرآجحاضریسےاستثنٰیکیدرخواستمنظورکرلیالیکشنکمیشنکیجانبسےپیٹیآئیوکلاکوتصدیقشدہکاپیاںفراہمنہیںکیگئیںتصدیقشدہکاپیاںکیفراہمیکےبعدفردجرمکیاگلیتاریخمقررکیجائےگییتفصیلاتکےمطابقسیشنعدالتمیںالیکشنکمیشنکیعمرانخانکےخلاففوجداریمقدمےکیدرخواستپرسماعتہوئیججظفراقبالنےدرخواستپرسماعتکیعمرانخانکیجانبسےطبیبنیادوںپرحاضریسےاستثنیٰکیدرخواستدائرکیگئیعدالتنےوکیلسےاستفسارکیاکہکیامچلکےجمعکروادیئےوکیلگوہرعلیخاننےکہاکہعمرانخانکےضمانتیمچلکےجمعکروادیئےججنےاستفسارکیاکہایسےحاضریسےاستثنٰیکیدرخواستدائرہوتیرہیتوفردجرمکیسےعائدہوگیوکیلعلیبخارینےبتایاکہہمیںمصدقہکاپیاںفراہمنہیںکیگئیںںججنےہدایتکیکہتمامثبوتوںکیتصدیقشدہکاپیاںعدالتاورپیٹیآئیکوفراہمکریںوکیلالیکشنکمیشننےکہاکہہمآجہیکمپلینٹاورثبوتوںکیمصدقہکاپیاںفراہمکردیںگےوکیلالیکشنکمیشننےکہاکہعمرانخانابھیتکعدالتکیوںنہیںآئےججنےاستفسارکیاکہکیاکہمجھےایکتاریخبتادیںعمرانخانکبعدالتآئیںگےعمرانخانکےوکیلنےکہاکہعمرانخانکیصحتنےاجازتدیتوآئیںگےڈاکٹرزکیہدایتپرعملکررہےہیںعدالتنےعمرانخانکیآجحاضریسےاستثنیٰپرفیصلہمحفوظکرلیاعدالتنےطبیبنیادوںپرعمرانخانکیآجحاضریسےاستثنیٰکیدرخواستمنظورکرلیچیئرمینپیٹیآئیعمرانخانپرفردجرمعائدنہہوسکیییادرہےکہتوشہخانہکیسمیںعمرانخاننےسینئروکیلخواجہحارثکیخدماتحاصلکرلیںخواجہحارثسمیتت44وکلاکےوکالتنامےعدالتمیںجمعکرادیئےگئےہیںںسابقوفاقیوزیرمفتاحاسماعیلکاکہناہےکہوزیرخزانہاسحاقڈارنےپھروہیحرکتکیجوشوکتتریننےکیتھیانہوںنےآئیایمایفسےکیاگیامعاہدہتوڑاتھاانہوںنےہمنیوزکےپروگراممیںگفتگوکرتےہوئےمزیدکہاکہآئیایمایفسےمعاہدہہونےکےبعدچیزیںبہترہوںگیپیآئیاےاسسالل900اربروپےکانقصانکرےگیلیکناگرپیآئیاےکینجکاریہوگیتوو900اربروپےکانقصاننہیںہوگاامفتاحاسماعیلنےکہاکہمیںتوچاہرہاتھاپہلےدنہیپٹرولیممصنوعاتکیقیمتوںمیںاضافہکیاجائےسیلابآنےسےپہلےہمنےڈیفالٹرسککوکمکیاتھاشہبازشریفاگرآجوزیراعظمنہہوتےتوملکڈیفالٹکیطرفجاچکاتھاقبلازیںایکبیانمیںمفتاحاسماعیلنےکہاکہہمسلملیگمیںکوئیفارورڈبلاکنہیںبنرہاپاکستانڈیفالٹنہیںکرےگاپارٹیکےموجودہنائبصدرکوپارٹیکےفیصلےکرنےکااختیارحاصلہےوہگزشتہروزکراچیمیںنیشنلاسلامکاکنامککانفرنسسےخطابکررہےتھےےسابقوزیرخزانہنےاپنےخطاباورمیڈیاسےباتچیتکےدورانمسلملیگمیںفارورڈبلاکبننےکیخبروںکومستردکرتےہوئےکہاکہایسیاطلاعاتمیںکوئیصداقتنہیںہےشاہدخاقانعباسیپہلےہیکہہچکےہیںکہوہپارٹیمیںہیہیںانہوںنےاپنےپارٹیعہدہسےاستعفیٰدیاہےپارٹینہیںچھوڑیہےملککیمعاشیصورتحالکےحوالےسےمفتاحاسماعیلکاکہناتھاکہملککےڈیفالٹہونےکاکوئیامکانہیںآئیایمایفسےڈیلہوجائیگیاورمعاملاتدرستہوجائینگےانکاکہناتھاکہاگرشوکتترینفروریمیںآئیایمایفکامعاہدہنہتوڑتےتوحالاتاچھےہوتےپیٹیآئیکیحکومتمیںں800اربڈالرکیامپورٹہوئیڈالرکوروککررکھناغلطیتھیاوراسلئےڈالرکیقیمتآجبلندترینسطحپرہےڈالرکیقدرکوپکڑکرروکانہیںجاسکتاڈالرکافریفلوٹرہناہیبہترہےغیرضروریمشینریکوہمنےامپورٹسےروکاتھاابھیجوپابندیہےوہکچھاورہےےوزیرداخلہراناثناءاللہکاکہناہےکہعمرانخاننےجیلبھروتحریککااعلانکیاہےوہپہلےبھیاسہتھکنڈےمیںناکامہوئےعمرانخانکومعلومہینہیںکہجیلمیںرہناکتنامشکلہےمیڈیارپورٹسکےمطابقراناثناءاللہنےاپنےبیانمیںکہاکہعمرانخانکامقصدسیاسیافراتفریہےوہاسمیںناکامہوںگےعمرانخاناپنیزندگیکاصرفایکدنجیلمیںرہےےاےپیسیمیںتمامجماعتوںکیشرکتکےلیےے22دنبڑھادیئےہیںاےپیسیمیںکسیجماعتکےشاملنہہونےسےمعاملہرکنہیںسکتاوزیرداخلہکاکہناتھاکہقومیمعاملےکاتمامسیاسیجماعتوںکوملکرحلنکالناہوگااےپیسیمیںاتفاقرائےکےبعدحکومتدہشتگردوںکےخلافکارروائیکافیصلہکرےگییقبلازیںوفاقیوزیرایازصادقنےکہاکہپرویزخٹکاسدقیصراوراعجازشاہکواےپیسیمیںشرکتکیدعوتدیانسےکہاکہوہیہدعوتعمرانخانتکپہنچادیںںایازصادقنےپیٹیآئیرہنمااسدقیصرکےبیانپرردِعملدیتےہوئےکہاہےکہاےپیسیمیںشرکتکیلئےکسیکوبھیدعوتنامہنہیںبھجوایافونکیےیاملاقاتکرکےکانفرنسمیںشرکتکیدعوتدیگئیہےسابقاسپیکرقومیاسمبلیاسدقیصررویوںکیباتنہکریںتواچھاہےپیٹیآئینےنلیگپیپلزپارٹیکےساتھایفآئیاےاورنیبکےذریعےکیاکچھنہیںکیاجبکہتحریکانصافکےرہنمااسدقیصرکاکہناتھاکہمجھےحکومتینمائندوںنےفونپراےپیسیمیںشرکتکیدعوتدیکانفرنسکیدعوتدینےکایہبالکلبھیمناسبطریقہنہیںہےاےپیسیمیںدعوتدیناکااحسنطریقہہوتاہےہمسمجھتےہیںکہملکسنگینبحرانوںکاشکارہےاوراسوقتیکجہتیکیضرورتہےحکومتیرویہغیرآئینیہےاوراسماحولمیںیکجہتیکاسوالہیپیدانہیںہوتاحکومتکوسبسےپہلےاپنےرویےمیںبہتریلاناہوگیہمنےاپنےدورمیںدہشتگردیپرقابوپانےکیلئےبہترینحکمتعملیبناکرامنقائمکیا\n",
      "\n",
      "Trigram Model Output:\n",
      "تجربہکارہندوستانیآفسپنررویچندرنایشوننےآئندہایشیاءکپ2023ءکیغیریقینیقسمتپراپنیرائےکااظہارکیاہےجوپاکستانمیںہونےجارہاہےاپنےیوٹیوبچینلپرباتکرتےہوئےرویچندرنایشوننےکہاکہاگرپڑوسیملکبھارتایشیاکپ2023ءمیںشرکتکرناچاہتاہےتومقامتبدیلکردیناچاہیےآفسپنرنےکہاکہانٹرنیشنلکرکٹکونسل(آئیسیسی)نےپاکستانکوٹورنامنٹکیمیزبانیکاحقدےدیاہےلیکنبھارتپاکستانکادورہکرنےکوتیارنہیںرویچندرنایشوننےبھی2023ءمیں50اوورکےورلڈکپکےحوالےسےپاکستانکرکٹبورڈ(پیسیبی)کےحالیہبیانکاجوابدیتےہوئےکہامیرےخیالمیںیہممکننہیںہےآفسپنرنےمزیدکہاکہپاکستاننےپہلےبھارتکادورہکرنےسےانکارکردیاتھالیکنآخرکاروہمیگاایونٹسمیںشرکتکےلیےبھارتگئےتھےغورطلبہےکہایشیاکپکےمعاملےپرحالہیمیںبحرینمیںہونےوالیایکہنگامیمیٹنگمیںغورکیاگیاجہاںوینیوکےبارےمیںحتمیفیصلہمارچتکموخرکردیاگیابحرینمیںایشینکرکٹکونسل(اےسیسی)کےاجلاسکےبعدبیسیسیآئیکےحکامنےاعلانکیاکہبورڈنےایونٹکےلیےاپنیٹیمپاکستاننہبھیجنےکافیصلہکیاہےتاہمپیسیبیکےحکامنےبھیسختردعملکااظہارکرتےہوئےکہاہےکہوہاکتوبرمیںبھارتمیںہونےوالےورلڈکپ2023ءمیںشرکتنہیںکریںگےتوشہخانہکیسمیںعمرانخانپرفردجرمعائدنہہوسکیسیشنعدالتنےالیکشنکمیشنکیچیئرمینپیٹیآئیکیخلاففوجداریمقدمےکیدرخواستپرعمرانخانکیطبیبنیادوںپرآجحاضریسےاستثنٰیکیدرخواستمنظورکرلیالیکشنکمیشنکیجانبسےپیٹیآئیوکلاکوتصدیقشدہکاپیاںفراہمنہیںکیگئیںتصدیقشدہکاپیاںکیفراہمیکےبعدفردجرمکیاگلیتاریخمقررکیجائےگیتفصیلاتکےمطابقسیشنعدالتمیںالیکشنکمیشنکیعمرانخانکےخلاففوجداریمقدمےکیدرخواستپرسماعتہوئیججظفراقبالنےدرخواستپرسماعتکیعمرانخانکیجانبسےطبیبنیادوںپرحاضریسےاستثنیٰکیدرخواستدائرکیگئیعدالتنےوکیلسےاستفسارکیاکہکیامچلکےجمعکروادیئےوکیلگوہرعلیخاننےکہاکہعمرانخانکےضمانتیمچلکےجمعکروادیئےججنےاستفسارکیاکہایسےحاضریسےاستثنٰیکیدرخواستدائرہوتیرہیتوفردجرمکیسےعائدہوگیوکیلعلیبخارینےبتایاکہہمیںمصدقہکاپیاںفراہمنہیںکیگئیںججنےہدایتکیکہتمامثبوتوںکیتصدیقشدہکاپیاںعدالتاورپیٹیآئیکوفراہمکریںوکیلالیکشنکمیشننےکہاکہہمآجہیکمپلینٹاورثبوتوںکیمصدقہکاپیاںفراہمکردیںگےوکیلالیکشنکمیشننےکہاکہعمرانخانابھیتکعدالتکیوںنہیںآئےججنےاستفسارکیاکہکیاکہمجھےایکتاریخبتادیںعمرانخانکبعدالتآئیںگےعمرانخانکےوکیلنےکہاکہعمرانخانکیصحتنےاجازتدیتوآئیںگےڈاکٹرزکیہدایتپرعملکررہےہیںعدالتنےعمرانخانکیآجحاضریسےاستثنیٰپرفیصلہمحفوظکرلیاعدالتنےطبیبنیادوںپرعمرانخانکیآجحاضریسےاستثنیٰکیدرخواستمنظورکرلیچیئرمینپیٹیآئیعمرانخانپرفردجرمعائدنہہوسکییادرہےکہتوشہخانہکیسمیںعمرانخاننےسینئروکیلخواجہحارثکیخدماتحاصلکرلیںخواجہحارثسمیت4وکلاکےوکالتنامےعدالتمیںجمعکرادیئےگئےہیںسابقوفاقیوزیرمفتاحاسماعیلکاکہناہےکہوزیرخزانہاسحاقڈارنےپھروہیحرکتکیجوشوکتتریننےکیتھیانہوںنےآئیایمایفسےکیاگیامعاہدہتوڑاتھاانہوںنےہمنیوزکےپروگراممیںگفتگوکرتےہوئےمزیدکہاکہآئیایمایفسےمعاہدہہونےکےبعدچیزیںبہترہوںگیپیآئیاےاسسال90اربروپےکانقصانکرےگیلیکناگرپیآئیاےکینجکاریہوگیتو90اربروپےکانقصاننہیںہوگامفتاحاسماعیلنےکہاکہمیںتوچاہرہاتھاپہلےدنہیپٹرولیممصنوعاتکیقیمتوںمیںاضافہکیاجائےسیلابآنےسےپہلےہمنےڈیفالٹرسککوکمکیاتھاشہبازشریفاگرآجوزیراعظمنہہوتےتوملکڈیفالٹکیطرفجاچکاتھاقبلازیںایکبیانمیںمفتاحاسماعیلنےکہاکہہمسلملیگمیںکوئیفارورڈبلاکنہیںبنرہاپاکستانڈیفالٹنہیںکرےگاپارٹیکےموجودہنائبصدرکوپارٹیکےفیصلےکرنےکااختیارحاصلہےوہگزشتہروزکراچیمیںنیشنلاسلامکاکنامککانفرنسسےخطابکررہےتھےسابقوزیرخزانہنےاپنےخطاباورمیڈیاسےباتچیتکےدورانمسلملیگمیںفارورڈبلاکبننےکیخبروںکومستردکرتےہوئےکہاکہایسیاطلاعاتمیںکوئیصداقتنہیںہےشاہدخاقانعباسیپہلےہیکہہچکےہیںکہوہپارٹیمیںہیہیںانہوںنےاپنےپارٹیعہدہسےاستعفیٰدیاہےپارٹینہیںچھوڑیہےملککیمعاشیصورتحالکےحوالےسےمفتاحاسماعیلکاکہناتھاکہملککےڈیفالٹہونےکاکوئیامکانہیںآئیایمایفسےڈیلہوجائیگیاورمعاملاتدرستہوجائینگےانکاکہناتھاکہاگرشوکتترینفروریمیںآئیایمایفکامعاہدہنہتوڑتےتوحالاتاچھےہوتےپیٹیآئیکیحکومتمیں80اربڈالرکیامپورٹہوئیڈالرکوروککررکھناغلطیتھیاوراسلئےڈالرکیقیمتآجبلندترینسطحپرہےڈالرکیقدرکوپکڑکرروکانہیںجاسکتاڈالرکافریفلوٹرہناہیبہترہےغیرضروریمشینریکوہمنےامپورٹسےروکاتھاابھیجوپابندیہےوہکچھاورہےوزیرداخلہراناثناءاللہکاکہناہےکہعمرانخاننےجیلبھروتحریککااعلانکیاہےوہپہلےبھیاسہتھکنڈےمیںناکامہوئےعمرانخانکومعلومہینہیںکہجیلمیںرہناکتنامشکلہےمیڈیارپورٹسکےمطابقراناثناءاللہنےاپنےبیانمیںکہاکہعمرانخانکامقصدسیاسیافراتفریہےوہاسمیںناکامہوںگےعمرانخاناپنیزندگیکاصرفایکدنجیلمیںرہےاےپیسیمیںتمامجماعتوںکیشرکتکےلیے2دنبڑھادیئےہیںاےپیسیمیںکسیجماعتکےشاملنہہونےسےمعاملہرکنہیںسکتاوزیرداخلہکاکہناتھاکہقومیمعاملےکاتمامسیاسیجماعتوںکوملکرحلنکالناہوگااےپیسیمیںاتفاقرائےکےبعدحکومتدہشتگردوںکےخلافکارروائیکافیصلہکرےگیقبلازیںوفاقیوزیرایازصادقنےکہاکہپرویزخٹکاسدقیصراوراعجازشاہکواےپیسیمیںشرکتکیدعوتدیانسےکہاکہوہیہدعوتعمرانخانتکپہنچادیںایازصادقنےپیٹیآئیرہنمااسدقیصرکےبیانپرردِعملدیتےہوئےکہاہےکہاےپیسیمیںشرکتکیلئےکسیکوبھیدعوتنامہنہیںبھجوایافونکیےیاملاقاتکرکےکانفرنسمیںشرکتکیدعوتدیگئیہےسابقاسپیکرقومیاسمبلیاسدقیصررویوںکیباتنہکریںتواچھاہےپیٹیآئینےنلیگپیپلزپارٹیکےساتھایفآئیاےاورنیبکےذریعےکیاکچھنہیںکیاجبکہتحریکانصافکےرہنمااسدقیصرکاکہناتھاکہمجھےحکومتینمائندوںنےفونپراےپیسیمیںشرکتکیدعوتدیکانفرنسکیدعوتدینےکایہبالکلبھیمناسبطریقہنہیںہےاےپیسیمیںدعوتدیناکااحسنطریقہہوتاہےہمسمجھتےہیںکہملکسنگینبحرانوںکاشکارہےاوراسوقتیکجہتیکیضرورتہےحکومتیرویہغیرآئینیہےاوراسماحولمیںیکجہتیکاسوالہیپیدانہیںہوتاحکومتکوسبسےپہلےاپنےرویےمیںبہتریلاناہوگیہمنےاپنےدورمیںدہشتگردیپرقابوپانےکیلئےبہترینحکمتعملیبناکرامنقائمکیا\n"
     ]
    }
   ],
   "source": [
    "import razdel\n",
    "from collections import Counter\n",
    "import re\n",
    "\n",
    "\n",
    "def load_words(file_path):\n",
    "    with open(file_path, 'r', encoding='utf-8') as f:\n",
    "        words = set(word.strip() for word in f)\n",
    "    return words\n",
    "\n",
    "\n",
    "def create_ngrams(words, n):\n",
    "    ngrams = []\n",
    "    for word in words:\n",
    "        word = re.sub(r'[^\\w\\s]', '', word)  # Remove non-word characters\n",
    "        if len(word) >= n:\n",
    "            for i in range(len(word) - n + 1):\n",
    "                ngrams.append(word[i:i + n])\n",
    "    return Counter(ngrams)\n",
    "\n",
    "\n",
    "def add_spaces(text, unigram_counts, bigram_counts, trigram_counts):\n",
    "    words = [token.text for token in razdel.tokenize(text)]\n",
    "\n",
    "    segmented_text_unigram = words[0]\n",
    "    segmented_text_bigram = words[0]\n",
    "    segmented_text_trigram = words[0]\n",
    "\n",
    "    for i in range(1, len(words)):\n",
    "        last_word = words[i - 1]\n",
    "        current_word = words[i]\n",
    "\n",
    "        best_segment_unigram = current_word\n",
    "        best_segment_bigram = current_word\n",
    "        best_segment_trigram = current_word\n",
    "\n",
    "        if current_word not in unigram_counts:\n",
    "            if last_word in bigram_counts and current_word in bigram_counts[last_word]:\n",
    "                best_segment_bigram = ' ' + current_word\n",
    "            else:\n",
    "                best_segment_bigram = last_word[-1] + current_word\n",
    "\n",
    "        if i > 1 and last_word in trigram_counts and current_word in trigram_counts[last_word]:\n",
    "            segmented_text_trigram += ' ' + current_word\n",
    "        else:\n",
    "            segmented_text_trigram += best_segment_trigram\n",
    "\n",
    "        segmented_text_unigram += best_segment_unigram\n",
    "        segmented_text_bigram += best_segment_bigram\n",
    "\n",
    "    return segmented_text_unigram, segmented_text_bigram, segmented_text_trigram\n",
    "\n",
    "\n",
    "if __name__ == '__main__':\n",
    "    words = load_words('words.txt')\n",
    "\n",
    "    unigram_counts = create_ngrams(words, 1)\n",
    "    bigram_counts = create_ngrams(words, 2)\n",
    "    trigram_counts = create_ngrams(words, 3)\n",
    "\n",
    "    with open('word_test.txt', 'r', encoding='utf-8') as f:\n",
    "        text = f.read()\n",
    "\n",
    "    segmented_text_unigram, segmented_text_bigram, segmented_text_trigram = add_spaces(text, unigram_counts, bigram_counts, trigram_counts)\n",
    "\n",
    "    print(\"Unigram Model Output:\")\n",
    "    print(segmented_text_unigram)\n",
    "\n",
    "    print(\"\\nBigram Model Output:\")\n",
    "    print(segmented_text_bigram)\n",
    "\n",
    "    print(\"\\nTrigram Model Output:\")\n",
    "    print(segmented_text_trigram)\n"
   ]
  },
  {
   "cell_type": "code",
   "execution_count": null,
   "id": "90480cb3",
   "metadata": {},
   "outputs": [],
   "source": []
  }
 ],
 "metadata": {
  "colab": {
   "provenance": []
  },
  "kernelspec": {
   "display_name": "Python 3 (ipykernel)",
   "language": "python",
   "name": "python3"
  },
  "language_info": {
   "codemirror_mode": {
    "name": "ipython",
    "version": 3
   },
   "file_extension": ".py",
   "mimetype": "text/x-python",
   "name": "python",
   "nbconvert_exporter": "python",
   "pygments_lexer": "ipython3",
   "version": "3.9.12"
  }
 },
 "nbformat": 4,
 "nbformat_minor": 5
}
